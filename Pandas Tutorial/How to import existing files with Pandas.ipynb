{
 "cells": [
  {
   "cell_type": "markdown",
   "source": [
    "\n",
    "# How to import existing files with Pandas\n",
    "\n",
    "Complete tutorial accessible via: https://neuraspike.com/blog/how-to-import-existing-files-with-pandas/\n"
   ],
   "metadata": {
    "collapsed": false
   }
  },
  {
   "cell_type": "code",
   "execution_count": null,
   "metadata": {
    "collapsed": true
   },
   "outputs": [],
   "source": [
    "import pandas as pd"
   ]
  },
  {
   "cell_type": "markdown",
   "metadata": {
    "pycharm": {
     "name": "#%% md\n"
    }
   },
   "source": [
    "### How to load and save CSV files in Python with Pandas"
   ]
  },
  {
   "cell_type": "code",
   "execution_count": null,
   "metadata": {},
   "outputs": [],
   "source": [
    "# loading to a csv file\n",
    "url_raw_link = \"https://git.io/JL7o9\"\n",
    "daily_female_birth = pd.read_csv(filepath_or_buffer=url_raw_link, sep=\",\")\n",
    "daily_female_birth.head()"
   ]
  },
  {
   "cell_type": "code",
   "execution_count": null,
   "metadata": {
    "pycharm": {
     "name": "#%%\n"
    }
   },
   "outputs": [],
   "source": [
    "# writing to a file\n",
    "filename = \"./daily-female-birth.csv\"\n",
    "daily_female_birth.to_csv(path_or_buf=filename, sep=\",\")"
   ]
  },
  {
   "cell_type": "markdown",
   "metadata": {
    "pycharm": {
     "name": "#%% md\n"
    }
   },
   "source": [
    "### How to load and save Json Format files in Python with Pandas"
   ]
  },
  {
   "cell_type": "code",
   "execution_count": null,
   "metadata": {
    "pycharm": {
     "name": "#%%\n"
    }
   },
   "outputs": [],
   "source": [
    "nba_players = {\n",
    "                \"Name\":{\"0\":\"LeBron James\",\n",
    "                        \"1\":\"Stephen Curry\",\n",
    "                        \"2\":\"James Harden\"},\n",
    "\n",
    "                \"Gender\":{\"0\":\"Male\",\n",
    "                          \"1\":\"Male\",\n",
    "                          \"2\":\"Male\"},\n",
    "\n",
    "                \"Nationality\":{\"0\":\"USA\",\n",
    "                                \"1\":\"USA\",\n",
    "                                \"2\":\"USA\"}\n",
    "              }\n",
    "\n",
    "nba_players_df = pd.DataFrame(data=nba_players)\n",
    "print(nba_players_df)\n",
    "\n",
    "# ---------------- output ----------------\n",
    "#          Name     Gender     Nationality\n",
    "# 0   LeBron James   Male         USA\n",
    "# 1  Stephen Curry   Male         USA\n",
    "# 2   James Harden   Male         USA"
   ]
  },
  {
   "cell_type": "code",
   "execution_count": null,
   "metadata": {
    "pycharm": {
     "name": "#%%\n"
    }
   },
   "outputs": [],
   "source": [
    "filename = \"nba_players.json\"\n",
    "\n",
    "# saving the dataframe as a .json format file\n",
    "nba_players_df.to_json(path_or_buf=filename)\n",
    "\n",
    "# ---------------- output ----------------\n",
    "#{\n",
    "#  \"Name\": {\n",
    "#    \"0\": \"LeBron James\",\n",
    "#    \"1\": \"Stephen Curry\",\n",
    "#    \"2\": \"James Harden\"\n",
    "#  },\n",
    "#  \"Gender\": {\n",
    "#    \"0\": \"Male\",\n",
    "#    \"1\": \"Male\",\n",
    "#    \"2\": \"Male\"\n",
    "#  },\n",
    "#  \"Nationality\": {\n",
    "#    \"0\": \"USA\",\n",
    "#    \"1\": \"USA\",\n",
    "#    \"2\": \"USA\"\n",
    "#  }\n",
    "#}\n",
    "# Access the link: https://codebeautify.org/jsonviewer -> Click on Beautify"
   ]
  },
  {
   "cell_type": "code",
   "execution_count": null,
   "metadata": {
    "pycharm": {
     "name": "#%%\n"
    }
   },
   "outputs": [],
   "source": [
    "# reading a .json format file\n",
    "filename = \"nba_players.json\"\n",
    "nba_players_df = pd.read_json(path_or_buf=filename)\n",
    "nba_players_df.head()"
   ]
  },
  {
   "cell_type": "markdown",
   "metadata": {
    "pycharm": {
     "name": "#%% md\n"
    }
   },
   "source": [
    "### How to load and save Excel files in Python with Pandas"
   ]
  },
  {
   "cell_type": "code",
   "execution_count": null,
   "metadata": {
    "pycharm": {
     "name": "#%%\n"
    }
   },
   "outputs": [],
   "source": [
    "football_players = {\n",
    "                    \"Name\":{\"0\":\"Lionel Messi\",\n",
    "                            \"1\":\"Cristiano Ronaldo\",\n",
    "                            \"2\":\"Kylian Mbappé\",\n",
    "                            \"3\":\"Mohamed Salah\",\n",
    "                            \"4\":\"Neymar da Silva Santos Júnior\"},\n",
    "\n",
    "                    \"Gender\":{\"0\":\"Male\",\n",
    "                              \"1\":\"Male\",\n",
    "                              \"2\":\"Male\",\n",
    "                              \"3\":\"Male\",\n",
    "                              \"4\":\"Male\"},\n",
    "\n",
    "                    \"Nationality\":{\"0\":\"Argentine\",\n",
    "                                  \"1\":\"Portugal\",\n",
    "                                  \"2\":\"France\",\n",
    "                                  \"3\":\"Egypt\",\n",
    "                                  \"4\":\"Brazil\"}\n",
    "                  }\n",
    "\n",
    "football_players_df = pd.DataFrame(data=football_players)\n",
    "print(football_players_df)\n",
    "\n",
    "# ------------------------ output ----------------------\n",
    "#                            Name   Gender  Nationality\n",
    "# 0                   Lionel Messi   Male   Argentina\n",
    "# 1              Cristiano Ronaldo   Male    Portugal\n",
    "# 2                  Kylian Mbappé   Male      France\n",
    "# 3                  Mohamed Salah   Male       Egypt\n",
    "# 4  Neymar da Silva Santos Júnior   Male      Brazil"
   ]
  },
  {
   "cell_type": "code",
   "execution_count": null,
   "metadata": {
    "pycharm": {
     "name": "#%%\n"
    }
   },
   "outputs": [],
   "source": [
    "file_path = './Football Players.xlsx'\n",
    "sheet_name = \"Football Players\"\n",
    "\n",
    "football_players_df.to_excel(excel_writer=file_path,\n",
    "                             sheet_name=sheet_name,\n",
    "                              index=False)"
   ]
  },
  {
   "cell_type": "code",
   "execution_count": null,
   "outputs": [],
   "source": [
    "sport_sheets = {\n",
    "                  'Football Players': football_players_df,\n",
    "                  'Basketball Players': nba_players_df\n",
    "                }\n",
    "\n",
    "filename_path = './Sport men.xlsx'\n",
    "\n",
    "writer = pd.ExcelWriter(path=filename_path)\n",
    "\n",
    "# iterate through the sport sheet keys 'Football Players'\n",
    "# and 'Basketball Players'.\n",
    "for sheet_name in sport_sheets.keys():\n",
    "\n",
    "    # save the two dictionaries with different sheet names\n",
    "    sport_sheets[sheet_name].to_excel(excel_writer=writer,\n",
    "                                       sheet_name=sheet_name, index=False)\n",
    "\n",
    "writer.save()"
   ],
   "metadata": {
    "collapsed": false,
    "pycharm": {
     "name": "#%%\n"
    }
   }
  },
  {
   "cell_type": "markdown",
   "source": [
    "#### How to load specific sheets in Excel"
   ],
   "metadata": {
    "collapsed": false
   }
  },
  {
   "cell_type": "code",
   "execution_count": null,
   "outputs": [],
   "source": [
    "file_path = './Sport men.xlsx'\n",
    "sheet_name = \"Football Players\"\n",
    "\n",
    "football_players_df = pd.read_excel(io=file_path, sheet_name=sheet_name)\n",
    "print(football_players_df)\n",
    "\n",
    "# ------------------------ output ----------------------\n",
    "#                            Name   Gender  Nationality\n",
    "# 0                   Lionel Messi   Male   Argentina\n",
    "# 1              Cristiano Ronaldo   Male    Portugal\n",
    "# 2                  Kylian Mbappé   Male      France\n",
    "# 3                  Mohamed Salah   Male       Egypt\n",
    "# 4  Neymar da Silva Santos Júnior   Male      Brazil"
   ],
   "metadata": {
    "collapsed": false,
    "pycharm": {
     "name": "#%%\n"
    }
   }
  },
  {
   "cell_type": "code",
   "execution_count": null,
   "outputs": [],
   "source": [
    "sheet_name = \"Basketball Players\"\n",
    "\n",
    "nba_players_df = pd.read_excel(io=file_path, sheet_name=sheet_name)\n",
    "print(nba_players_df)\n",
    "\n",
    "# ---------------- output ----------------\n",
    "#          Name     Gender     Nationality\n",
    "# 0   LeBron James   Male         USA\n",
    "# 1  Stephen Curry   Male         USA\n",
    "# 2   James Harden   Male         USA"
   ],
   "metadata": {
    "collapsed": false,
    "pycharm": {
     "name": "#%%\n"
    }
   }
  },
  {
   "cell_type": "markdown",
   "source": [
    "#### Reading Specific Columns from an Excel File"
   ],
   "metadata": {
    "collapsed": false
   }
  },
  {
   "cell_type": "code",
   "execution_count": null,
   "outputs": [],
   "source": [
    "file_path = './Sport men.xlsx'\n",
    "sheet_name = \"Basketball Players\"\n",
    "columns = [0, 2] # name & nationality\n",
    "\n",
    "nba_players_df = pd.read_excel(io=file_path, sheet_name=sheet_name,\n",
    "                                usecols=columns)\n",
    "print(nba_players_df)\n",
    "\n",
    "# ---------------- output ----------------\n",
    "#          Name        Nationality\n",
    "# 0   LeBron James         USA\n",
    "# 1   Stephen Curry        USA\n",
    "# 2   James Harden         USA\n"
   ],
   "metadata": {
    "collapsed": false,
    "pycharm": {
     "name": "#%%\n"
    }
   }
  },
  {
   "cell_type": "code",
   "execution_count": null,
   "metadata": {
    "pycharm": {
     "name": "#%%\n"
    }
   },
   "outputs": [],
   "source": [
    "file_path = './Sport men.xlsx'\n",
    "sheet_name = \"Basketball Players\"\n",
    "columns = [0, 2] # name & nationality\n",
    "\n",
    "nba_players_df = pd.read_excel(io=file_path, sheet_name=sheet_name,\n",
    "                                usecols=columns)\n",
    "print(nba_players_df)\n",
    "\n",
    "# ---------------- output ----------------\n",
    "#          Name        Nationality\n",
    "# 0   LeBron James         USA\n",
    "# 1   Stephen Curry        USA\n",
    "# 2   James Harden         USA"
   ]
  },
  {
   "cell_type": "markdown",
   "metadata": {},
   "source": [
    "#### How to load specific sheets in Excel"
   ]
  },
  {
   "cell_type": "code",
   "execution_count": null,
   "metadata": {
    "pycharm": {
     "name": "#%%\n"
    }
   },
   "outputs": [],
   "source": [
    "file_path = './Sport men.xlsx'\n",
    "sheet_name = \"Football Players\"\n",
    "\n",
    "football_players_df = pd.read_excel(io=file_path, sheet_name=sheet_name)\n",
    "print(football_players_df)\n",
    "\n",
    "# ------------------------ output ----------------------\n",
    "#                            Name   Gender  Nationality\n",
    "# 0                   Lionel Messi   Male   Argentina\n",
    "# 1              Cristiano Ronaldo   Male    Portugal\n",
    "# 2                  Kylian Mbappé   Male      France\n",
    "# 3                  Mohamed Salah   Male       Egypt\n",
    "# 4  Neymar da Silva Santos Júnior   Male      Brazil"
   ]
  },
  {
   "cell_type": "code",
   "execution_count": null,
   "metadata": {
    "pycharm": {
     "name": "#%%\n"
    }
   },
   "outputs": [],
   "source": [
    "sheet_name = \"Basketball Players\"\n",
    "\n",
    "nba_players_df = pd.read_excel(io=file_path, sheet_name=sheet_name)\n",
    "print(nba_players_df)\n",
    "\n",
    "# ---------------- output ----------------\n",
    "#          Name     Gender     Nationality\n",
    "# 0   LeBron James   Male         USA\n",
    "# 1  Stephen Curry   Male         USA\n",
    "# 2   James Harden   Male         USA"
   ]
  },
  {
   "cell_type": "markdown",
   "metadata": {},
   "source": [
    "#### Reading Specific Columns from an Excel File"
   ]
  },
  {
   "cell_type": "code",
   "execution_count": null,
   "metadata": {
    "pycharm": {
     "name": "#%%\n"
    }
   },
   "outputs": [],
   "source": [
    "file_path = './Sport men.xlsx'\n",
    "sheet_name = \"Basketball Players\"\n",
    "columns = [0, 2] # name & nationality\n",
    "\n",
    "nba_players_df = pd.read_excel(io=file_path, sheet_name=sheet_name,\n",
    "                                usecols=columns)\n",
    "print(nba_players_df)\n",
    "\n",
    "# ---------------- output ----------------\n",
    "#          Name        Nationality\n",
    "# 0   LeBron James         USA\n",
    "# 1   Stephen Curry        USA\n",
    "# 2   James Harden         USA"
   ]
  }
 ],
 "metadata": {
  "kernelspec": {
   "display_name": "Python 3",
   "language": "python",
   "name": "python3"
  },
  "language_info": {
   "codemirror_mode": {
    "name": "ipython",
    "version": 3
   },
   "file_extension": ".py",
   "mimetype": "text/x-python",
   "name": "python",
   "nbconvert_exporter": "python",
   "pygments_lexer": "ipython3",
   "version": "3.7.7"
  }
 },
 "nbformat": 4,
 "nbformat_minor": 1
}