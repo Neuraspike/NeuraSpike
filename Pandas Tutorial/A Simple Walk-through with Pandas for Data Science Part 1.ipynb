{
 "cells": [
  {
   "cell_type": "markdown",
   "metadata": {},
   "source": [
    "# A Simple Walk-through with Pandas for Data Science, Part 1\n",
    "\n",
    "Complete tutorial accessible via: https://neuraspike.com/blog/simple-walk-through-with-pandas-for-data-science-part1/"
   ]
  },
  {
   "cell_type": "code",
   "execution_count": null,
   "metadata": {},
   "outputs": [],
   "source": [
    "import pandas as pd\n",
    "\n",
    "print(pd.__version__)\n",
    "# '1.1.4.'"
   ]
  },
  {
   "cell_type": "markdown",
   "metadata": {},
   "source": [
    "## Creating Pandas Objects"
   ]
  },
  {
   "cell_type": "code",
   "execution_count": null,
   "metadata": {},
   "outputs": [],
   "source": [
    "import numpy as np"
   ]
  },
  {
   "cell_type": "markdown",
   "metadata": {},
   "source": [
    "### pandas.Series()\n",
    "\n",
    "#### Python Lists"
   ]
  },
  {
   "cell_type": "code",
   "execution_count": null,
   "metadata": {},
   "outputs": [],
   "source": [
    "data = pd.Series(data=[0, 1, 2, 3],\n",
    "                  index=['first', 'second', 'third', 'fourth'])\n",
    "\n",
    "print(data)\n",
    "\n",
    "# ------ output -------\n",
    "# first     0\n",
    "# second    1\n",
    "# third     2\n",
    "# fourth    3\n",
    "# dtype: int64"
   ]
  },
  {
   "cell_type": "code",
   "execution_count": null,
   "metadata": {},
   "outputs": [],
   "source": [
    "print(data.index) # get the index\n",
    "\n",
    "# ------ output -------\n",
    "# Index(['first', 'second', 'third', 'fourth'], dtype='object')"
   ]
  },
  {
   "cell_type": "code",
   "execution_count": null,
   "metadata": {},
   "outputs": [],
   "source": [
    "print(data.values) # get the values\n",
    "\n",
    "# ------ output -------\n",
    "# [0 1 2 3]"
   ]
  },
  {
   "cell_type": "code",
   "execution_count": null,
   "metadata": {},
   "outputs": [],
   "source": [
    "print(data[0]) # get the first value in a series\n",
    "# ------ output -------\n",
    "# 0\n",
    "\n",
    "print(data[0:2]) # access the first 2 data stored in the series\n",
    "\n",
    "# ------ output -------\n",
    "# first     0\n",
    "# second    1\n",
    "# dtype: int64"
   ]
  },
  {
   "cell_type": "code",
   "execution_count": null,
   "metadata": {},
   "outputs": [],
   "source": [
    "print(data['first']) # get the first value in a series\n",
    "# ------ output -------\n",
    "# 0\n",
    "\n",
    "print(data['first':'second']) # access the first 2 data stored in the series\n",
    "\n",
    "# ------ output -------\n",
    "# first     0\n",
    "# second    1\n",
    "# dtype: int64"
   ]
  },
  {
   "cell_type": "markdown",
   "metadata": {},
   "source": [
    "#### Dictionaries"
   ]
  },
  {
   "cell_type": "code",
   "execution_count": null,
   "metadata": {},
   "outputs": [],
   "source": [
    "data_dict = {\n",
    "    \"first\" : 0,\n",
    "    \"second\" : 1,\n",
    "    \"third\" : 2,\n",
    "    \"fourth\" : 3\n",
    "}\n",
    "\n",
    "print(data_dict)\n",
    "\n",
    "# ------ output -------\n",
    "# {'first': 0, 'second': 1, 'third': 2, 'fourth': 3}"
   ]
  },
  {
   "cell_type": "code",
   "execution_count": null,
   "metadata": {},
   "outputs": [],
   "source": [
    "data = pd.Series(data_dict)\n",
    "print(data)\n",
    "\n",
    "# ------ output -------\n",
    "# first     0\n",
    "# second    1\n",
    "# third     2\n",
    "# fourth    3\n",
    "# dtype: int64"
   ]
  },
  {
   "cell_type": "markdown",
   "metadata": {},
   "source": [
    "#### NumPy Array"
   ]
  },
  {
   "cell_type": "code",
   "execution_count": null,
   "metadata": {},
   "outputs": [],
   "source": [
    "array = np.arange(4)\n",
    "print(array)\n",
    "\n",
    "# ------ output -------\n",
    "# [0 1 2 3]\n",
    "\n",
    "\n",
    "data = pd.Series(array)\n",
    "print(data)\n",
    "\n",
    "# ------ output -------\n",
    "# 0    0\n",
    "# 1    1\n",
    "# 2    2\n",
    "# 3    3\n",
    "# dtype: int64"
   ]
  },
  {
   "cell_type": "markdown",
   "metadata": {},
   "source": [
    "#### Scalar Value or Constant"
   ]
  },
  {
   "cell_type": "code",
   "execution_count": null,
   "metadata": {},
   "outputs": [],
   "source": [
    "print(pd.Series(10, index=[1, 2, 3, 4, 5]))\n",
    "\n",
    "# ------ output -------\n",
    "# 1    10\n",
    "# 2    10\n",
    "# 3    10\n",
    "# 4    10\n",
    "# 5    10\n",
    "# dtype: int64"
   ]
  },
  {
   "cell_type": "markdown",
   "metadata": {},
   "source": [
    "### pandas.DataFrame()"
   ]
  },
  {
   "cell_type": "code",
   "execution_count": null,
   "metadata": {},
   "outputs": [],
   "source": [
    "company_info1 = {\n",
    "      'name' : 'Google',\n",
    "      'year' : 1998\n",
    "}\n",
    "\n",
    "print(company_info1)\n",
    "\n",
    "# ------ output -------\n",
    "# {'name': 'Google', 'year': 1998}\n",
    "\n",
    "\n",
    "company_info2 = {\n",
    "      'name' : 'Facebook',\n",
    "      'year' : 2004\n",
    "}\n",
    "\n",
    "print(company_info2)\n",
    "\n",
    "# ------ output -------\n",
    "# {'name': 'Facebook', 'year': 2004}"
   ]
  },
  {
   "cell_type": "code",
   "execution_count": null,
   "metadata": {},
   "outputs": [],
   "source": [
    "tech_companies = ['Google', 'Facebook', 'Nvidia', 'Microsoft']\n",
    "year_founded = [1998, 2004, 1993, 1975]\n",
    "\n",
    "companies_info = pd.DataFrame({ \n",
    "                               'name' : tech_companies,\n",
    "                               'year' : year_founded \n",
    "                                })\n",
    "\n",
    "print(companies_info)\n",
    "\n",
    "# ------ output -------\n",
    "#\n",
    "#  \t|   name \t  |   year |\n",
    "# ------------------------\n",
    "# 0 |\tGoogle \t  |  1998  |\n",
    "# 1 |\tFacebook  |\t 2004  |\n",
    "# 2 |\tNvidia \t  |  1993  |\n",
    "# 3 |\tMicrosoft |  1975  |"
   ]
  },
  {
   "cell_type": "code",
   "execution_count": null,
   "metadata": {},
   "outputs": [],
   "source": [
    "print(companies_info.index)\n",
    "\n",
    "# ------ output -------\n",
    "# RangeIndex(start=0, stop=4, step=1)\n",
    "\n",
    "\n",
    "print(companies_info.columns)\n",
    "\n",
    "# ------ output -------\n",
    "# Index(['name', 'year'], dtype='object')"
   ]
  },
  {
   "cell_type": "code",
   "execution_count": null,
   "metadata": {},
   "outputs": [],
   "source": [
    "print(companies_info['name']) # get the values on the column 'name'\n",
    "\n",
    "# ------ output -------\n",
    "#  \t0       Google\n",
    "#   1     Facebook\n",
    "#   2       Nvidia\n",
    "#   3    Microsoft\n",
    "# Name: name, dtype: object\n",
    "\n",
    "\n",
    "print(companies_info['year']) # get the values on the column 'year'\n",
    "\n",
    "# ------ output -------\n",
    "#  \t0     1998\n",
    "#   1     2004\n",
    "#   2     1993\n",
    "#   3     1975\n",
    "# Name: name, dtype: object"
   ]
  },
  {
   "cell_type": "markdown",
   "metadata": {},
   "source": [
    "### pandas.Index()"
   ]
  },
  {
   "cell_type": "code",
   "execution_count": null,
   "metadata": {},
   "outputs": [],
   "source": [
    "index = pd.Index(np.arange(6))\n",
    "print(index)\n",
    "\n",
    "# ------ output -------\n",
    "# Int64Index([0, 1, 2, 3, 4, 5], dtype='int64')"
   ]
  },
  {
   "cell_type": "code",
   "execution_count": null,
   "metadata": {},
   "outputs": [],
   "source": [
    "print(index[2])\n",
    "\n",
    "# ------ output -------\n",
    "# 2\n",
    "\n",
    "print(index[2:4])\n",
    "\n",
    "# ------ output -------\n",
    "# Int64Index([2, 3], dtype='int64')"
   ]
  },
  {
   "cell_type": "code",
   "execution_count": null,
   "metadata": {},
   "outputs": [],
   "source": [
    "print(index.shape) # get the shape\n",
    "print(index.size) # get the size\n",
    "print(index.ndim) #  shape of the dimension\n",
    "print(index.dtype) # data type\n",
    "\n",
    "# ------ output -------\n",
    "# (6, )\n",
    "# 6\n",
    "# 1\n",
    "# int64"
   ]
  },
  {
   "cell_type": "code",
   "execution_count": null,
   "metadata": {},
   "outputs": [],
   "source": [
    "index[0] = 2\n",
    "\n",
    "# ------ output -------\n",
    "# TypeError: Index does not support mutable operations"
   ]
  },
  {
   "cell_type": "markdown",
   "metadata": {},
   "source": [
    "## Data Indexing and Selection\n",
    "\n",
    "#### Data Indexing and selection in Series"
   ]
  },
  {
   "cell_type": "code",
   "execution_count": null,
   "metadata": {},
   "outputs": [],
   "source": [
    "continent = pd.Series(data=['Africa', 'Europe', 'Asia', 'North America'],\n",
    "                      index=['Nigeria', 'Serbia', 'China', 'USA'])\n",
    "print(continent)\n",
    "\n",
    "# ------ output -------\n",
    "# Nigeria           Africa\n",
    "# Serbia            Europe\n",
    "# China               Asia\n",
    "# USA        North America\n",
    "# dtype: object"
   ]
  },
  {
   "cell_type": "code",
   "execution_count": null,
   "metadata": {},
   "outputs": [],
   "source": [
    "continent['Suriname'] = \"South America\"\n",
    "print(continent)\n",
    "\n",
    "# ------ output -------\n",
    "# Nigeria            Africa\n",
    "# Serbia             Europe\n",
    "# China                Asia\n",
    "# USA         North America\n",
    "# Suriname    South America\n",
    "# dtype: object"
   ]
  },
  {
   "cell_type": "code",
   "execution_count": null,
   "metadata": {},
   "outputs": [],
   "source": [
    "print(continent['Nigeria':'China'])\n",
    "\n",
    "# ------ output -------\n",
    "# Nigeria    Africa\n",
    "# Serbia     Europe\n",
    "# China        Asia\n",
    "# dtype: object\n",
    "\n",
    "\n",
    "print(continent[0:2])\n",
    "\n",
    "# ------ output -------\n",
    "# Nigeria    Africa\n",
    "# Serbia     Europe\n",
    "# China        Asia\n",
    "# dtype: object"
   ]
  },
  {
   "cell_type": "markdown",
   "metadata": {},
   "source": [
    "### Indexer: loc and iloc"
   ]
  },
  {
   "cell_type": "code",
   "execution_count": null,
   "metadata": {},
   "outputs": [],
   "source": [
    "print(continent.loc['Serbia': 'Suriname'])\n",
    "\n",
    "# ------ output -------\n",
    "# Serbia             Europe\n",
    "# China                Asia\n",
    "# USA         North America\n",
    "# Suriname    South America\n",
    "# dtype: object"
   ]
  },
  {
   "cell_type": "code",
   "execution_count": null,
   "metadata": {},
   "outputs": [],
   "source": [
    "print(continent.iloc[0])\n",
    "\n",
    "# ------ output -------\n",
    "# Africa\n",
    "\n",
    "\n",
    "print(continent.iloc[0:3])\n",
    "\n",
    "# ------ output -------\n",
    "# Nigeria    Africa\n",
    "# Serbia     Europe\n",
    "# China        Asia\n",
    "# dtype: object"
   ]
  },
  {
   "cell_type": "markdown",
   "metadata": {},
   "source": [
    "#### Data Indexing and selection in DataFrames"
   ]
  },
  {
   "cell_type": "code",
   "execution_count": null,
   "metadata": {},
   "outputs": [],
   "source": [
    "continent = pd.Series(data=['Africa', 'Europe', 'Asia', 'North America'],\n",
    "                      index=['Nigeria', 'Serbia', 'China', 'USA'])\n",
    "\n",
    "\n",
    "language = pd.Series(data=['English', 'Serbian', 'Mandarin', 'English'],\n",
    "                      index=['Nigeria', 'Serbia', 'China', 'USA'])\n",
    "\n",
    "population = pd.Series(data=[195900000, 6964000, 1393000000, 328200000],\n",
    "                      index=['Nigeria', 'Serbia', 'China', 'USA'])\n",
    "\n",
    "\n",
    "data = pd.DataFrame({'continent': continent,\n",
    "                     'language': language,\n",
    "                     'population' : population})\n",
    "\n",
    "print(data)\n",
    "\n",
    "# ------ output -------\n",
    "#              continent  language  population\n",
    "# Nigeria         Africa   English   195900000\n",
    "# Serbia          Europe   Serbian     6964000\n",
    "# China             Asia  Mandarin  1393000000\n",
    "# USA      North America   English   328200000"
   ]
  },
  {
   "cell_type": "code",
   "execution_count": null,
   "metadata": {},
   "outputs": [],
   "source": [
    "print(data.values[3])\n",
    "\n",
    "# ------ output -------\n",
    "# ['North America' 'English' 328200000]\n"
   ]
  },
  {
   "cell_type": "code",
   "execution_count": null,
   "metadata": {},
   "outputs": [],
   "source": [
    "print(data['language']) # OR print(data.language)\n",
    "\n",
    "# ------ output -------\n",
    "# Nigeria     English\n",
    "# Serbia      Serbian\n",
    "# China      Mandarin\n",
    "# USA         English\n",
    "# Name: language, dtype: object\n"
   ]
  },
  {
   "cell_type": "code",
   "execution_count": null,
   "metadata": {},
   "outputs": [],
   "source": [
    "print(data.iloc[:2, :2])\n",
    "\n",
    "# ------ output -------\n",
    "#         continent language\n",
    "# Nigeria    Africa  English\n",
    "# Serbia     Europe  Serbian\n",
    "\n",
    "\n",
    "print(data.loc[:'China', 'language'])\n",
    "\n",
    "# ------ output -------\n",
    "# Nigeria     English\n",
    "# Serbia      Serbian\n",
    "# China      Mandarin\n",
    "# Name: language, dtype: object"
   ]
  },
  {
   "cell_type": "code",
   "execution_count": null,
   "metadata": {},
   "outputs": [],
   "source": [
    "ten_million = 10000000\n",
    "\n",
    "print(data[data.population > ten_million])\n",
    "\n",
    "# ------ output -------\n",
    "#              continent  language  population\n",
    "# Nigeria         Africa   English   195900000\n",
    "# China             Asia  Mandarin  1393000000\n",
    "# USA      North America   English   328200000\n"
   ]
  },
  {
   "cell_type": "code",
   "execution_count": null,
   "metadata": {},
   "outputs": [],
   "source": [
    "print(data.population > ten_million)\n",
    "\n",
    "# ------ output -------\n",
    "# Nigeria     True\n",
    "# Serbia     False\n",
    "# China       True\n",
    "# USA         True\n",
    "# Name: population, dtype: bool"
   ]
  },
  {
   "cell_type": "code",
   "execution_count": null,
   "metadata": {},
   "outputs": [],
   "source": [
    "\n",
    "ten_million = 10000000\n",
    "\n",
    "print(data.loc[data.population > ten_million, ['continent']])\n",
    "\n",
    "# ------ output -------\n",
    "#              continent\n",
    "# Nigeria         Africa\n",
    "# China             Asia\n",
    "# USA      North America"
   ]
  },
  {
   "cell_type": "code",
   "execution_count": null,
   "metadata": {},
   "outputs": [],
   "source": [
    "print(data.iloc[0, 2] )\n",
    "\n",
    "# ------ output -------\n",
    "# 195900000\n",
    "\n",
    "\n",
    "data.iloc[0, 2] = 195900123\n",
    "print(data.iloc[0, 2] )\n",
    "\n",
    "# ------ output -------\n",
    "# 195900123"
   ]
  }
 ],
 "metadata": {
  "kernelspec": {
   "display_name": "Python 3",
   "language": "python",
   "name": "python3"
  },
  "language_info": {
   "codemirror_mode": {
    "name": "ipython",
    "version": 3
   },
   "file_extension": ".py",
   "mimetype": "text/x-python",
   "name": "python",
   "nbconvert_exporter": "python",
   "pygments_lexer": "ipython3",
   "version": "3.7.7"
  }
 },
 "nbformat": 4,
 "nbformat_minor": 4
}