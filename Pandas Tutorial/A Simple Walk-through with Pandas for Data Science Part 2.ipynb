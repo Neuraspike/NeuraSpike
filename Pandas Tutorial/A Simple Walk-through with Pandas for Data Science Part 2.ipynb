{
 "cells": [
  {
   "cell_type": "markdown",
   "metadata": {},
   "source": [
    "# A Simple Walk-through with Pandas for Data Science, Part 2\n",
    "\n",
    "Complete tutorial accessible via: https://neuraspike.com/blog/a-simple-walk-through-with-pandas-for-data-science-part-2/"
   ]
  },
  {
   "cell_type": "code",
   "execution_count": null,
   "metadata": {},
   "outputs": [],
   "source": [
    "import pandas as pd\n",
    "import numpy as np"
   ]
  },
  {
   "cell_type": "markdown",
   "metadata": {},
   "source": [
    "### Operations with Pandas"
   ]
  },
  {
   "cell_type": "code",
   "execution_count": null,
   "metadata": {},
   "outputs": [],
   "source": [
    "number_list_1 = np.arange(5)\n",
    "number_list_2 = np.arange(5,10)\n",
    "\n",
    "print(number_list_1)\n",
    "print(number_list_2)\n",
    "\n",
    "# ------ output -------\n",
    "# [0 1 2 3 4]\n",
    "# [5 6 7 8 9]\n",
    "\n",
    "\n",
    "data = pd.DataFrame({'col 1' : number_list_1,\n",
    "                     'col 2' : number_list_2})\n",
    "\n",
    "print(data.values)\n",
    "\n",
    "# ------ output -------\n",
    "# [[0 5]\n",
    "# [1 6]\n",
    "# [2 7]\n",
    "# [3 8]\n",
    "# [4 9]]"
   ]
  },
  {
   "cell_type": "code",
   "execution_count": null,
   "metadata": {},
   "outputs": [],
   "source": [
    "data['col 3'] = data['col 1'] + data['col 2']\n",
    "print(data)\n",
    "\n",
    "# --------- output -----------\n",
    "#    col 1  col 2  col 3\n",
    "# 0      0      5      5\n",
    "# 1      1      6      7\n",
    "# 2      2      7      9\n",
    "# 3      3      8     11\n",
    "# 4      4      9     13"
   ]
  },
  {
   "cell_type": "markdown",
   "metadata": {},
   "source": [
    "### Handling Missing Data"
   ]
  },
  {
   "cell_type": "code",
   "execution_count": null,
   "metadata": {},
   "outputs": [],
   "source": [
    "data = np.array([200, np.nan, 210, 215, None, 220, 225])\n",
    "print(data)\n",
    "\n",
    "# --------- output -----------\n",
    "# [200 nan 210 215 None 220 225]"
   ]
  },
  {
   "cell_type": "code",
   "execution_count": null,
   "metadata": {},
   "outputs": [],
   "source": [
    "print(data.sum())\n",
    "\n",
    "# --------- output -----------\n",
    "# TypeError: unsupported operand type(s) for +: 'int' and 'NoneType'\n",
    "\n",
    "print(data.min())\n",
    "\n",
    "# --------- output -----------\n",
    "# TypeError: unsupported operand type(s) for +: 'int' and 'NoneType'\n",
    "\n",
    "print(data.max())\n",
    "\n",
    "# --------- output -----------\n",
    "# nan"
   ]
  },
  {
   "cell_type": "code",
   "execution_count": null,
   "metadata": {},
   "outputs": [],
   "source": [
    "data = pd.Series(data)\n",
    "print(data.isnull())\n",
    "\n",
    "# --------- output -----------\n",
    "# a    False\n",
    "# b     True\n",
    "# c    False\n",
    "# d    False\n",
    "# e     True\n",
    "# f    False\n",
    "# g    False\n",
    "# dtype: bool"
   ]
  },
  {
   "cell_type": "code",
   "execution_count": null,
   "metadata": {
    "scrolled": true
   },
   "outputs": [],
   "source": [
    "print(data[data.notnull()])\n",
    "\n",
    "\n",
    "# --------- output -----------\n",
    "# 0    200\n",
    "# 2    210\n",
    "# 3    215\n",
    "# 5    220\n",
    "# 6    225\n",
    "# dtype: bool"
   ]
  },
  {
   "cell_type": "code",
   "execution_count": null,
   "metadata": {},
   "outputs": [],
   "source": [
    "print(data.dropna())\n",
    "\n",
    "# --------- output -----------\n",
    "# 0    200\n",
    "# 2    210\n",
    "# 3    215\n",
    "# 5    220\n",
    "# 6    225\n",
    "# dtype: bool"
   ]
  },
  {
   "cell_type": "code",
   "execution_count": null,
   "metadata": {},
   "outputs": [],
   "source": [
    "data.fillna(data.mean())\n",
    "\n",
    "# ------ output -------\n",
    "# 0    200.0\n",
    "# 1    205.0\n",
    "# 2    210.0\n",
    "# 3    215.0\n",
    "# 4    214.0\n",
    "# 5    220.0\n",
    "# 6    225.0\n",
    "# dtype: float64\n",
    "\n",
    "\n",
    "data.fillna(method='ffill')\n",
    "\n",
    "# ------ output -------\n",
    "# 0    200.0\n",
    "# 1    200.0\n",
    "# 2    210.0\n",
    "# 3    215.0\n",
    "# 4    215.0\n",
    "# 5    220.0\n",
    "# 6    225.0\n",
    "# dtype: float64\n",
    "\n",
    "\n",
    "data.fillna(method='bfill')\n",
    "\n",
    "# ------ output -------\n",
    "# 0    200.0\n",
    "# 1    210.0\n",
    "# 2    210.0\n",
    "# 3    215.0\n",
    "# 4    220.0\n",
    "# 5    220.0\n",
    "# 6    225.0\n",
    "# dtype: float64"
   ]
  },
  {
   "cell_type": "markdown",
   "metadata": {},
   "source": [
    "### Combining Datasets\n",
    "\n",
    "#### pd.Concat"
   ]
  },
  {
   "cell_type": "code",
   "execution_count": null,
   "metadata": {},
   "outputs": [],
   "source": [
    "a_list = [[2, 4, 6]]\n",
    "b_list = [[1, 3, 5]]\n",
    "\n",
    "print(np.concatenate([a_list, b_list], axis=0))\n",
    "\n",
    "# ------ output -------\n",
    "# array([[2, 4, 6],\n",
    "#       [1, 3, 5]])\n",
    "\n",
    "\n",
    "print(np.concatenate([a_list, b_list], axis=1))\n",
    "\n",
    "# ------ output -------\n",
    "# [[2 4 6 1 3 5]]"
   ]
  },
  {
   "cell_type": "code",
   "execution_count": null,
   "metadata": {},
   "outputs": [],
   "source": [
    "country = pd.Series(data=['Nigeria', 'Serbia', 'China', 'USA'])\n",
    "\n",
    "population = pd.Series(data=[195900000, 6964000, 1393000000, 328200000])\n",
    "\n",
    "\n",
    "print(pd.concat([country, population], axis=0))\n",
    "\n",
    "# ------ output -------\n",
    "# 0       Nigeria\n",
    "# 1        Serbia\n",
    "# 2         China\n",
    "# 3           USA\n",
    "# 0     195900000\n",
    "# 1       6964000\n",
    "# 2    1393000000\n",
    "# 3     328200000\n",
    "# dtype: object\n",
    "\n",
    "pd.concat([country, population], axis=1)\n",
    "\n",
    "# ------ output -------\n",
    "#  \t    0 \t      1 \n",
    "# 0 \tNigeria \t195900000\n",
    "# 1 \tSerbia \t  6964000\n",
    "# 2 \tChina \t  1393000000\n",
    "# 3 \tUSA \t    328200000"
   ]
  },
  {
   "cell_type": "markdown",
   "metadata": {},
   "source": [
    "#### pd.Merge"
   ]
  },
  {
   "cell_type": "code",
   "execution_count": null,
   "metadata": {},
   "outputs": [],
   "source": [
    "df1 = pd.DataFrame({\n",
    "            'country' : ['Nigeria', 'Serbia', 'China', 'USA'],\n",
    "            'continent' : ['Africa', 'Europe', 'Asia', 'North America']})\n",
    "\n",
    "df2 = pd.DataFrame({\n",
    "            'country' : ['Nigeria', 'Serbia', 'China', 'USA'],\n",
    "            'language' : ['English', 'Serbian', 'Mandarin', 'English']})\n",
    "\n",
    "df3 = pd.merge(df1, df2)\n",
    "print(df3)\n",
    "\n",
    "# ------------- output --------------\n",
    "#     country      continent      language\n",
    "# 0   Nigeria         Africa      English\n",
    "# 1   Serbia         Europe       Serbian\n",
    "# 2    China           Asia       Mandarin\n",
    "# 3      USA     North America    English"
   ]
  },
  {
   "cell_type": "markdown",
   "metadata": {},
   "source": [
    "### Grouping Function"
   ]
  },
  {
   "cell_type": "code",
   "execution_count": null,
   "metadata": {},
   "outputs": [],
   "source": [
    "data = pd.DataFrame({\n",
    "  'cars' : ['BMW', 'BMW', 'Ferrari', 'Ferrari', 'Lamborghini', 'Lamborghini'],\n",
    "  'model' : ['M5', 'i8', '488 GTB', '488 Pista Spider', 'Huracan', 'Urus'],\n",
    "  'price' : [102700, 147500, 262647, 350000, 203674, 203995]\n",
    "})\n",
    "\n",
    "print(data)\n",
    "\n",
    "# ------------- output --------------\n",
    "#           cars             model   price\n",
    "# 0          BMW                M5  102700\n",
    "# 1          BMW                i8  147500\n",
    "# 2      Ferrari           488 GTB  262647\n",
    "# 3      Ferrari  488 Pista Spider  350000\n",
    "# 4  Lamborghini           Huracan  203674\n",
    "# 5  Lamborghini            Urus    203995"
   ]
  },
  {
   "cell_type": "code",
   "execution_count": null,
   "metadata": {},
   "outputs": [],
   "source": [
    "print(data.groupby('cars'))\n",
    "\n",
    "# ------------- output --------------\n",
    "# <pandas.core.groupby.generic.DataFrameGroupBy object at 0x7fb249814470>"
   ]
  },
  {
   "cell_type": "code",
   "execution_count": null,
   "metadata": {},
   "outputs": [],
   "source": [
    "print(data.groupby('cars').groups)\n",
    "\n",
    "# ------------- output --------------\n",
    "# {'BMW': [0, 1], 'Ferrari': [2, 3], 'Lamborghini': [4, 5]}"
   ]
  },
  {
   "cell_type": "markdown",
   "metadata": {},
   "source": [
    "#### Aggregate"
   ]
  },
  {
   "cell_type": "code",
   "execution_count": null,
   "metadata": {},
   "outputs": [],
   "source": [
    "print(data.groupby('cars').mean())\n",
    "\n",
    "# ------------- output --------------\n",
    "#                \n",
    "# cars         price        \n",
    "# BMW          125100.0\n",
    "# Ferrari      306323.5\n",
    "# Lamborghini  203834.5"
   ]
  },
  {
   "cell_type": "code",
   "execution_count": null,
   "metadata": {},
   "outputs": [],
   "source": [
    "# apply groupby on one column\n",
    "print(data.groupby('cars')['price'].mean())\n",
    "\n",
    "# ------------- output --------------\n",
    "# cars\n",
    "# BMW            125100.0\n",
    "# Ferrari        306323.5\n",
    "# Lamborghini    203834.5\n",
    "# Name: price, dtype: float64"
   ]
  },
  {
   "cell_type": "code",
   "execution_count": null,
   "metadata": {},
   "outputs": [],
   "source": [
    "print(data.groupby('cars').aggregate(['min', np.median, np.mean, max]))\n",
    "\n",
    "# ---------------- output -------------------\n",
    "#               price                            \n",
    "#                 min    median      mean     max\n",
    "# cars                                           \n",
    "# BMW          102700  125100.0  125100.0  147500\n",
    "# Ferrari      262647  306323.5  306323.5  350000\n",
    "# Lamborghini  203674  203834.5  203834.5  203995"
   ]
  },
  {
   "cell_type": "markdown",
   "metadata": {},
   "source": [
    "#### Filter"
   ]
  },
  {
   "cell_type": "code",
   "execution_count": null,
   "metadata": {},
   "outputs": [],
   "source": [
    "def filter_by_price(x):\n",
    "    return x['price'].mean() > 250000\n",
    "\n",
    "print(data.groupby('cars').filter(filter_by_price))\n",
    "\n",
    "# ------------- output --------------\n",
    "#       cars             model   price\n",
    "# 2  Ferrari           488 GTB  262647\n",
    "# 3  Ferrari  488 Pista Spider  350000"
   ]
  },
  {
   "cell_type": "markdown",
   "metadata": {},
   "source": [
    "#### Transform"
   ]
  },
  {
   "cell_type": "code",
   "execution_count": null,
   "metadata": {},
   "outputs": [],
   "source": [
    "print(data.groupby('cars').transform(lambda x: x - 20000))\n",
    "\n",
    "# ------------- output --------------\n",
    "#     price\n",
    "# 0   82700\n",
    "# 1  127500\n",
    "# 2  242647\n",
    "# 3  330000\n",
    "# 4  183674\n",
    "# 5  183995"
   ]
  },
  {
   "cell_type": "markdown",
   "metadata": {},
   "source": [
    "#### Apply"
   ]
  },
  {
   "cell_type": "code",
   "execution_count": null,
   "metadata": {},
   "outputs": [],
   "source": [
    "def norm_by_price(x):\n",
    "    x['price'] /= x['price'].sum()\n",
    "    return x\n",
    "\n",
    "\n",
    "print(data.groupby('cars').apply(norm_by_price))\n",
    "\n",
    "# ------------- output --------------\n",
    "#           cars             model     price\n",
    "# 0          BMW                M5  0.410472\n",
    "# 1          BMW                i8  0.589528\n",
    "# 2      Ferrari           488 GTB  0.428709\n",
    "# 3      Ferrari  488 Pista Spider  0.571291\n",
    "# 4  Lamborghini           Huracan  0.499606\n",
    "# 5  Lamborghini              Urus  0.500394"
   ]
  }
 ],
 "metadata": {
  "kernelspec": {
   "display_name": "Python 3",
   "language": "python",
   "name": "python3"
  },
  "language_info": {
   "codemirror_mode": {
    "name": "ipython",
    "version": 3
   },
   "file_extension": ".py",
   "mimetype": "text/x-python",
   "name": "python",
   "nbconvert_exporter": "python",
   "pygments_lexer": "ipython3",
   "version": "3.7.7"
  }
 },
 "nbformat": 4,
 "nbformat_minor": 4
}